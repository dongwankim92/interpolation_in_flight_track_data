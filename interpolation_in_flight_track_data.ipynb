{
 "cells": [
  {
   "cell_type": "markdown",
   "metadata": {},
   "source": [
    "# 항적 데이터에서 선형 보간법으로결측치 대체 \n",
    "## Y722항로는 제주와 김포공항을 이어주는 항로이며, 자료는 이 곳을 지나는 항적 자료이다. \n",
    "## 각 항적마다 수신된 시간과 구간이 다르며 미 수신구간이 존재하기도 한다.\n"
   ]
  },
  {
   "cell_type": "code",
   "execution_count": 56,
   "metadata": {
    "scrolled": true
   },
   "outputs": [
    {
     "name": "stderr",
     "output_type": "stream",
     "text": [
      "Warning message:\n",
      "\"package 'dplyr' was built under R version 3.6.3\"\n",
      "Attaching package: 'dplyr'\n",
      "\n",
      "The following objects are masked from 'package:lubridate':\n",
      "\n",
      "    intersect, setdiff, union\n",
      "\n",
      "The following objects are masked from 'package:rgeos':\n",
      "\n",
      "    intersect, setdiff, union\n",
      "\n",
      "The following object is masked from 'package:MASS':\n",
      "\n",
      "    select\n",
      "\n",
      "The following objects are masked from 'package:stats':\n",
      "\n",
      "    filter, lag\n",
      "\n",
      "The following objects are masked from 'package:base':\n",
      "\n",
      "    intersect, setdiff, setequal, union\n",
      "\n"
     ]
    }
   ],
   "source": [
    "library(ggplot2)\n",
    "library(ggmap)\n",
    "library(GISTools)\n",
    "library(imputeTS)\n",
    "library(lubridate)\n",
    "library(ggmap)\n",
    "library(dplyr)"
   ]
  },
  {
   "cell_type": "markdown",
   "metadata": {},
   "source": [
    "## 각 day_call 기준으로 총 169개의 항적이 존재하고, 수신된 시간마다의 정보가 존재한다"
   ]
  },
  {
   "cell_type": "code",
   "execution_count": 50,
   "metadata": {
    "scrolled": true
   },
   "outputs": [
    {
     "data": {
      "text/html": [
       "<table>\n",
       "<thead><tr><th scope=col>Time</th><th scope=col>id</th><th scope=col>CallSign</th><th scope=col>lat</th><th scope=col>lon</th><th scope=col>Alt.fit</th><th scope=col>day</th><th scope=col>day_call</th><th scope=col>landing</th><th scope=col>airport</th><th scope=col>departure</th><th scope=col>land</th></tr></thead>\n",
       "<tbody>\n",
       "\t<tr><td>2017-07-01 9:43:00        </td><td>71BD061                   </td><td>AAR8954                   </td><td>36.12415                  </td><td>126.9745                  </td><td>26650                     </td><td>2017-07-01                </td><td>2017-07-01 71BD061 AAR8954</td><td>landing                   </td><td>gimpo                     </td><td>CJU                       </td><td>GMP                       </td></tr>\n",
       "\t<tr><td>2017-07-01 9:43:00        </td><td>71BD061                   </td><td>AAR8954                   </td><td>36.14314                  </td><td>126.9767                  </td><td>26275                     </td><td>2017-07-01                </td><td>2017-07-01 71BD061 AAR8954</td><td>landing                   </td><td>gimpo                     </td><td>CJU                       </td><td>GMP                       </td></tr>\n",
       "\t<tr><td>2017-07-01 9:44:00        </td><td>71BD061                   </td><td>AAR8954                   </td><td>36.18841                  </td><td>126.9816                  </td><td>25325                     </td><td>2017-07-01                </td><td>2017-07-01 71BD061 AAR8954</td><td>landing                   </td><td>gimpo                     </td><td>CJU                       </td><td>GMP                       </td></tr>\n",
       "\t<tr><td>2017-07-01 9:44:00        </td><td>71BD061                   </td><td>AAR8954                   </td><td>36.25731                  </td><td>126.9892                  </td><td>24550                     </td><td>2017-07-01                </td><td>2017-07-01 71BD061 AAR8954</td><td>landing                   </td><td>gimpo                     </td><td>CJU                       </td><td>GMP                       </td></tr>\n",
       "\t<tr><td>2017-07-01 9:09:00        </td><td>71BD58_0                  </td><td>JNA306                    </td><td>36.09810                  </td><td>126.9716                  </td><td>27225                     </td><td>2017-07-01                </td><td>2017-07-01 71BD58_0 JNA306</td><td>landing                   </td><td>unknown                   </td><td>CJU                       </td><td>GMP                       </td></tr>\n",
       "\t<tr><td>2017-07-01 9:10:00        </td><td>71BD58_0                  </td><td>JNA306                    </td><td>36.17075                  </td><td>126.9795                  </td><td>26625                     </td><td>2017-07-01                </td><td>2017-07-01 71BD58_0 JNA306</td><td>landing                   </td><td>unknown                   </td><td>CJU                       </td><td>GMP                       </td></tr>\n",
       "</tbody>\n",
       "</table>\n"
      ],
      "text/latex": [
       "\\begin{tabular}{r|llllllllllll}\n",
       " Time & id & CallSign & lat & lon & Alt.fit & day & day\\_call & landing & airport & departure & land\\\\\n",
       "\\hline\n",
       "\t 2017-07-01 9:43:00         & 71BD061                    & AAR8954                    & 36.12415                   & 126.9745                   & 26650                      & 2017-07-01                 & 2017-07-01 71BD061 AAR8954 & landing                    & gimpo                      & CJU                        & GMP                       \\\\\n",
       "\t 2017-07-01 9:43:00         & 71BD061                    & AAR8954                    & 36.14314                   & 126.9767                   & 26275                      & 2017-07-01                 & 2017-07-01 71BD061 AAR8954 & landing                    & gimpo                      & CJU                        & GMP                       \\\\\n",
       "\t 2017-07-01 9:44:00         & 71BD061                    & AAR8954                    & 36.18841                   & 126.9816                   & 25325                      & 2017-07-01                 & 2017-07-01 71BD061 AAR8954 & landing                    & gimpo                      & CJU                        & GMP                       \\\\\n",
       "\t 2017-07-01 9:44:00         & 71BD061                    & AAR8954                    & 36.25731                   & 126.9892                   & 24550                      & 2017-07-01                 & 2017-07-01 71BD061 AAR8954 & landing                    & gimpo                      & CJU                        & GMP                       \\\\\n",
       "\t 2017-07-01 9:09:00           & 71BD58\\_0                   & JNA306                       & 36.09810                     & 126.9716                     & 27225                        & 2017-07-01                   & 2017-07-01 71BD58\\_0 JNA306 & landing                      & unknown                      & CJU                          & GMP                         \\\\\n",
       "\t 2017-07-01 9:10:00           & 71BD58\\_0                   & JNA306                       & 36.17075                     & 126.9795                     & 26625                        & 2017-07-01                   & 2017-07-01 71BD58\\_0 JNA306 & landing                      & unknown                      & CJU                          & GMP                         \\\\\n",
       "\\end{tabular}\n"
      ],
      "text/markdown": [
       "\n",
       "| Time | id | CallSign | lat | lon | Alt.fit | day | day_call | landing | airport | departure | land |\n",
       "|---|---|---|---|---|---|---|---|---|---|---|---|\n",
       "| 2017-07-01 9:43:00         | 71BD061                    | AAR8954                    | 36.12415                   | 126.9745                   | 26650                      | 2017-07-01                 | 2017-07-01 71BD061 AAR8954 | landing                    | gimpo                      | CJU                        | GMP                        |\n",
       "| 2017-07-01 9:43:00         | 71BD061                    | AAR8954                    | 36.14314                   | 126.9767                   | 26275                      | 2017-07-01                 | 2017-07-01 71BD061 AAR8954 | landing                    | gimpo                      | CJU                        | GMP                        |\n",
       "| 2017-07-01 9:44:00         | 71BD061                    | AAR8954                    | 36.18841                   | 126.9816                   | 25325                      | 2017-07-01                 | 2017-07-01 71BD061 AAR8954 | landing                    | gimpo                      | CJU                        | GMP                        |\n",
       "| 2017-07-01 9:44:00         | 71BD061                    | AAR8954                    | 36.25731                   | 126.9892                   | 24550                      | 2017-07-01                 | 2017-07-01 71BD061 AAR8954 | landing                    | gimpo                      | CJU                        | GMP                        |\n",
       "| 2017-07-01 9:09:00         | 71BD58_0                   | JNA306                     | 36.09810                   | 126.9716                   | 27225                      | 2017-07-01                 | 2017-07-01 71BD58_0 JNA306 | landing                    | unknown                    | CJU                        | GMP                        |\n",
       "| 2017-07-01 9:10:00         | 71BD58_0                   | JNA306                     | 36.17075                   | 126.9795                   | 26625                      | 2017-07-01                 | 2017-07-01 71BD58_0 JNA306 | landing                    | unknown                    | CJU                        | GMP                        |\n",
       "\n"
      ],
      "text/plain": [
       "  Time               id       CallSign lat      lon      Alt.fit day       \n",
       "1 2017-07-01 9:43:00 71BD061  AAR8954  36.12415 126.9745 26650   2017-07-01\n",
       "2 2017-07-01 9:43:00 71BD061  AAR8954  36.14314 126.9767 26275   2017-07-01\n",
       "3 2017-07-01 9:44:00 71BD061  AAR8954  36.18841 126.9816 25325   2017-07-01\n",
       "4 2017-07-01 9:44:00 71BD061  AAR8954  36.25731 126.9892 24550   2017-07-01\n",
       "5 2017-07-01 9:09:00 71BD58_0 JNA306   36.09810 126.9716 27225   2017-07-01\n",
       "6 2017-07-01 9:10:00 71BD58_0 JNA306   36.17075 126.9795 26625   2017-07-01\n",
       "  day_call                   landing airport departure land\n",
       "1 2017-07-01 71BD061 AAR8954 landing gimpo   CJU       GMP \n",
       "2 2017-07-01 71BD061 AAR8954 landing gimpo   CJU       GMP \n",
       "3 2017-07-01 71BD061 AAR8954 landing gimpo   CJU       GMP \n",
       "4 2017-07-01 71BD061 AAR8954 landing gimpo   CJU       GMP \n",
       "5 2017-07-01 71BD58_0 JNA306 landing unknown CJU       GMP \n",
       "6 2017-07-01 71BD58_0 JNA306 landing unknown CJU       GMP "
      ]
     },
     "metadata": {},
     "output_type": "display_data"
    }
   ],
   "source": [
    "data=read.csv('C:/Users/admin/Desktop/졸업논문/data/y722_2.csv',stringsAsFactors = F)\n",
    "head(data)"
   ]
  },
  {
   "cell_type": "code",
   "execution_count": 51,
   "metadata": {
    "scrolled": true
   },
   "outputs": [
    {
     "data": {
      "text/html": [
       "169"
      ],
      "text/latex": [
       "169"
      ],
      "text/markdown": [
       "169"
      ],
      "text/plain": [
       "[1] 169"
      ]
     },
     "metadata": {},
     "output_type": "display_data"
    }
   ],
   "source": [
    "data_list=split(data,data$day_call)\n",
    "length(data_list)"
   ]
  },
  {
   "cell_type": "markdown",
   "metadata": {},
   "source": [
    "## 하지만 yy:mm:ss에서 중복된 시간이 존재하고, 오랜 시간 미수신된 구간이 존재한다.\n",
    "## Y722항로는 짧은 직선 구간의 항로로 선형성이 유지되는 구간으로, 선형 보간법을 통해 미 수신구간을 해결하고자 한다. 1) 시간정보를 포함한 자료와 2) 시간정보를 포함하지 않은 자료 두가지 기준으로 진행하려고 한다."
   ]
  },
  {
   "cell_type": "code",
   "execution_count": 53,
   "metadata": {},
   "outputs": [
    {
     "data": {
      "text/html": [
       "<table>\n",
       "<thead><tr><th></th><th scope=col>Time</th><th scope=col>id</th><th scope=col>CallSign</th><th scope=col>lat</th><th scope=col>lon</th><th scope=col>Alt.fit</th><th scope=col>day</th><th scope=col>day_call</th><th scope=col>landing</th><th scope=col>airport</th><th scope=col>departure</th><th scope=col>land</th></tr></thead>\n",
       "<tbody>\n",
       "\t<tr><th scope=row>8</th><td>2017-07-01 18:04:00       </td><td>71BD603                   </td><td>KAL1246                   </td><td>36.09984                  </td><td>126.9716                  </td><td>25000                     </td><td>2017-07-01                </td><td>2017-07-01 71BD603 KAL1246</td><td>landing                   </td><td>unknown                   </td><td>CJU                       </td><td>GMP                       </td></tr>\n",
       "\t<tr><th scope=row>9</th><td>2017-07-01 18:05:00       </td><td>71BD603                   </td><td>KAL1246                   </td><td>36.19514                  </td><td>126.9824                  </td><td>25000                     </td><td>2017-07-01                </td><td>2017-07-01 71BD603 KAL1246</td><td>landing                   </td><td>unknown                   </td><td>CJU                       </td><td>GMP                       </td></tr>\n",
       "\t<tr><th scope=row>10</th><td>2017-07-01 18:05:00       </td><td>71BD603                   </td><td>KAL1246                   </td><td>36.20819                  </td><td>126.9839                  </td><td>25000                     </td><td>2017-07-01                </td><td>2017-07-01 71BD603 KAL1246</td><td>landing                   </td><td>unknown                   </td><td>CJU                       </td><td>GMP                       </td></tr>\n",
       "\t<tr><th scope=row>11</th><td>2017-07-01 18:05:00       </td><td>71BD603                   </td><td>KAL1246                   </td><td>36.21007                  </td><td>126.9842                  </td><td>25000                     </td><td>2017-07-01                </td><td>2017-07-01 71BD603 KAL1246</td><td>landing                   </td><td>unknown                   </td><td>CJU                       </td><td>GMP                       </td></tr>\n",
       "\t<tr><th scope=row>12</th><td>2017-07-01 18:05:00       </td><td>71BD603                   </td><td>KAL1246                   </td><td>36.29420                  </td><td>126.9935                  </td><td>25000                     </td><td>2017-07-01                </td><td>2017-07-01 71BD603 KAL1246</td><td>landing                   </td><td>unknown                   </td><td>CJU                       </td><td>GMP                       </td></tr>\n",
       "\t<tr><th scope=row>13</th><td>2017-07-01 18:06:00       </td><td>71BD603                   </td><td>KAL1246                   </td><td>36.31206                  </td><td>126.9955                  </td><td>25000                     </td><td>2017-07-01                </td><td>2017-07-01 71BD603 KAL1246</td><td>landing                   </td><td>unknown                   </td><td>CJU                       </td><td>GMP                       </td></tr>\n",
       "\t<tr><th scope=row>14</th><td>2017-07-01 18:06:00       </td><td>71BD603                   </td><td>KAL1246                   </td><td>36.33253                  </td><td>126.9977                  </td><td>25000                     </td><td>2017-07-01                </td><td>2017-07-01 71BD603 KAL1246</td><td>landing                   </td><td>unknown                   </td><td>CJU                       </td><td>GMP                       </td></tr>\n",
       "\t<tr><th scope=row>15</th><td>2017-07-01 18:06:00       </td><td>71BD603                   </td><td>KAL1246                   </td><td>36.35225                  </td><td>126.9999                  </td><td>24975                     </td><td>2017-07-01                </td><td>2017-07-01 71BD603 KAL1246</td><td>landing                   </td><td>unknown                   </td><td>CJU                       </td><td>GMP                       </td></tr>\n",
       "\t<tr><th scope=row>16</th><td>2017-07-01 18:06:00       </td><td>71BD603                   </td><td>KAL1246                   </td><td>36.36303                  </td><td>127.0011                  </td><td>24900                     </td><td>2017-07-01                </td><td>2017-07-01 71BD603 KAL1246</td><td>landing                   </td><td>unknown                   </td><td>CJU                       </td><td>GMP                       </td></tr>\n",
       "</tbody>\n",
       "</table>\n"
      ],
      "text/latex": [
       "\\begin{tabular}{r|llllllllllll}\n",
       "  & Time & id & CallSign & lat & lon & Alt.fit & day & day\\_call & landing & airport & departure & land\\\\\n",
       "\\hline\n",
       "\t8 & 2017-07-01 18:04:00        & 71BD603                    & KAL1246                    & 36.09984                   & 126.9716                   & 25000                      & 2017-07-01                 & 2017-07-01 71BD603 KAL1246 & landing                    & unknown                    & CJU                        & GMP                       \\\\\n",
       "\t9 & 2017-07-01 18:05:00        & 71BD603                    & KAL1246                    & 36.19514                   & 126.9824                   & 25000                      & 2017-07-01                 & 2017-07-01 71BD603 KAL1246 & landing                    & unknown                    & CJU                        & GMP                       \\\\\n",
       "\t10 & 2017-07-01 18:05:00        & 71BD603                    & KAL1246                    & 36.20819                   & 126.9839                   & 25000                      & 2017-07-01                 & 2017-07-01 71BD603 KAL1246 & landing                    & unknown                    & CJU                        & GMP                       \\\\\n",
       "\t11 & 2017-07-01 18:05:00        & 71BD603                    & KAL1246                    & 36.21007                   & 126.9842                   & 25000                      & 2017-07-01                 & 2017-07-01 71BD603 KAL1246 & landing                    & unknown                    & CJU                        & GMP                       \\\\\n",
       "\t12 & 2017-07-01 18:05:00        & 71BD603                    & KAL1246                    & 36.29420                   & 126.9935                   & 25000                      & 2017-07-01                 & 2017-07-01 71BD603 KAL1246 & landing                    & unknown                    & CJU                        & GMP                       \\\\\n",
       "\t13 & 2017-07-01 18:06:00        & 71BD603                    & KAL1246                    & 36.31206                   & 126.9955                   & 25000                      & 2017-07-01                 & 2017-07-01 71BD603 KAL1246 & landing                    & unknown                    & CJU                        & GMP                       \\\\\n",
       "\t14 & 2017-07-01 18:06:00        & 71BD603                    & KAL1246                    & 36.33253                   & 126.9977                   & 25000                      & 2017-07-01                 & 2017-07-01 71BD603 KAL1246 & landing                    & unknown                    & CJU                        & GMP                       \\\\\n",
       "\t15 & 2017-07-01 18:06:00        & 71BD603                    & KAL1246                    & 36.35225                   & 126.9999                   & 24975                      & 2017-07-01                 & 2017-07-01 71BD603 KAL1246 & landing                    & unknown                    & CJU                        & GMP                       \\\\\n",
       "\t16 & 2017-07-01 18:06:00        & 71BD603                    & KAL1246                    & 36.36303                   & 127.0011                   & 24900                      & 2017-07-01                 & 2017-07-01 71BD603 KAL1246 & landing                    & unknown                    & CJU                        & GMP                       \\\\\n",
       "\\end{tabular}\n"
      ],
      "text/markdown": [
       "\n",
       "| <!--/--> | Time | id | CallSign | lat | lon | Alt.fit | day | day_call | landing | airport | departure | land |\n",
       "|---|---|---|---|---|---|---|---|---|---|---|---|---|\n",
       "| 8 | 2017-07-01 18:04:00        | 71BD603                    | KAL1246                    | 36.09984                   | 126.9716                   | 25000                      | 2017-07-01                 | 2017-07-01 71BD603 KAL1246 | landing                    | unknown                    | CJU                        | GMP                        |\n",
       "| 9 | 2017-07-01 18:05:00        | 71BD603                    | KAL1246                    | 36.19514                   | 126.9824                   | 25000                      | 2017-07-01                 | 2017-07-01 71BD603 KAL1246 | landing                    | unknown                    | CJU                        | GMP                        |\n",
       "| 10 | 2017-07-01 18:05:00        | 71BD603                    | KAL1246                    | 36.20819                   | 126.9839                   | 25000                      | 2017-07-01                 | 2017-07-01 71BD603 KAL1246 | landing                    | unknown                    | CJU                        | GMP                        |\n",
       "| 11 | 2017-07-01 18:05:00        | 71BD603                    | KAL1246                    | 36.21007                   | 126.9842                   | 25000                      | 2017-07-01                 | 2017-07-01 71BD603 KAL1246 | landing                    | unknown                    | CJU                        | GMP                        |\n",
       "| 12 | 2017-07-01 18:05:00        | 71BD603                    | KAL1246                    | 36.29420                   | 126.9935                   | 25000                      | 2017-07-01                 | 2017-07-01 71BD603 KAL1246 | landing                    | unknown                    | CJU                        | GMP                        |\n",
       "| 13 | 2017-07-01 18:06:00        | 71BD603                    | KAL1246                    | 36.31206                   | 126.9955                   | 25000                      | 2017-07-01                 | 2017-07-01 71BD603 KAL1246 | landing                    | unknown                    | CJU                        | GMP                        |\n",
       "| 14 | 2017-07-01 18:06:00        | 71BD603                    | KAL1246                    | 36.33253                   | 126.9977                   | 25000                      | 2017-07-01                 | 2017-07-01 71BD603 KAL1246 | landing                    | unknown                    | CJU                        | GMP                        |\n",
       "| 15 | 2017-07-01 18:06:00        | 71BD603                    | KAL1246                    | 36.35225                   | 126.9999                   | 24975                      | 2017-07-01                 | 2017-07-01 71BD603 KAL1246 | landing                    | unknown                    | CJU                        | GMP                        |\n",
       "| 16 | 2017-07-01 18:06:00        | 71BD603                    | KAL1246                    | 36.36303                   | 127.0011                   | 24900                      | 2017-07-01                 | 2017-07-01 71BD603 KAL1246 | landing                    | unknown                    | CJU                        | GMP                        |\n",
       "\n"
      ],
      "text/plain": [
       "   Time                id      CallSign lat      lon      Alt.fit day       \n",
       "8  2017-07-01 18:04:00 71BD603 KAL1246  36.09984 126.9716 25000   2017-07-01\n",
       "9  2017-07-01 18:05:00 71BD603 KAL1246  36.19514 126.9824 25000   2017-07-01\n",
       "10 2017-07-01 18:05:00 71BD603 KAL1246  36.20819 126.9839 25000   2017-07-01\n",
       "11 2017-07-01 18:05:00 71BD603 KAL1246  36.21007 126.9842 25000   2017-07-01\n",
       "12 2017-07-01 18:05:00 71BD603 KAL1246  36.29420 126.9935 25000   2017-07-01\n",
       "13 2017-07-01 18:06:00 71BD603 KAL1246  36.31206 126.9955 25000   2017-07-01\n",
       "14 2017-07-01 18:06:00 71BD603 KAL1246  36.33253 126.9977 25000   2017-07-01\n",
       "15 2017-07-01 18:06:00 71BD603 KAL1246  36.35225 126.9999 24975   2017-07-01\n",
       "16 2017-07-01 18:06:00 71BD603 KAL1246  36.36303 127.0011 24900   2017-07-01\n",
       "   day_call                   landing airport departure land\n",
       "8  2017-07-01 71BD603 KAL1246 landing unknown CJU       GMP \n",
       "9  2017-07-01 71BD603 KAL1246 landing unknown CJU       GMP \n",
       "10 2017-07-01 71BD603 KAL1246 landing unknown CJU       GMP \n",
       "11 2017-07-01 71BD603 KAL1246 landing unknown CJU       GMP \n",
       "12 2017-07-01 71BD603 KAL1246 landing unknown CJU       GMP \n",
       "13 2017-07-01 71BD603 KAL1246 landing unknown CJU       GMP \n",
       "14 2017-07-01 71BD603 KAL1246 landing unknown CJU       GMP \n",
       "15 2017-07-01 71BD603 KAL1246 landing unknown CJU       GMP \n",
       "16 2017-07-01 71BD603 KAL1246 landing unknown CJU       GMP "
      ]
     },
     "metadata": {},
     "output_type": "display_data"
    },
    {
     "data": {
      "text/html": [
       "<table>\n",
       "<thead><tr><th></th><th scope=col>Time</th><th scope=col>id</th><th scope=col>CallSign</th><th scope=col>lat</th><th scope=col>lon</th><th scope=col>Alt.fit</th><th scope=col>day</th><th scope=col>day_call</th><th scope=col>landing</th><th scope=col>airport</th><th scope=col>departure</th><th scope=col>land</th></tr></thead>\n",
       "<tbody>\n",
       "\t<tr><th scope=row>225</th><td>2017-07-06 22:05:30       </td><td>71BF252                   </td><td>KAL1264                   </td><td>36.12687                  </td><td>126.9747                  </td><td>25000                     </td><td>2017-07-06                </td><td>2017/07/06 71BF252 KAL1264</td><td>landing                   </td><td>gimpo                     </td><td>CJU                       </td><td>GMP                       </td></tr>\n",
       "\t<tr><th scope=row>226</th><td>2017-07-06 22:05:40       </td><td>71BF252                   </td><td>KAL1264                   </td><td>36.17844                  </td><td>126.9804                  </td><td>25000                     </td><td>2017-07-06                </td><td>2017/07/06 71BF252 KAL1264</td><td>landing                   </td><td>gimpo                     </td><td>CJU                       </td><td>GMP                       </td></tr>\n",
       "\t<tr><th scope=row>227</th><td>2017-07-06 22:05:50       </td><td>71BF252                   </td><td>KAL1264                   </td><td>36.20256                  </td><td>126.9831                  </td><td>25000                     </td><td>2017-07-06                </td><td>2017/07/06 71BF252 KAL1264</td><td>landing                   </td><td>gimpo                     </td><td>CJU                       </td><td>GMP                       </td></tr>\n",
       "\t<tr><th scope=row>228</th><td>2017-07-06 22:06:15       </td><td>71BF252                   </td><td>KAL1264                   </td><td>36.24966                  </td><td>126.9883                  </td><td>25000                     </td><td>2017-07-06                </td><td>2017/07/06 71BF252 KAL1264</td><td>landing                   </td><td>gimpo                     </td><td>CJU                       </td><td>GMP                       </td></tr>\n",
       "\t<tr><th scope=row>229</th><td>2017-07-06 22:06:18       </td><td>71BF252                   </td><td>KAL1264                   </td><td>36.25717                  </td><td>126.9892                  </td><td>25000                     </td><td>2017-07-06                </td><td>2017/07/06 71BF252 KAL1264</td><td>landing                   </td><td>gimpo                     </td><td>CJU                       </td><td>GMP                       </td></tr>\n",
       "\t<tr><th scope=row>230</th><td>2017-07-06 22:06:19       </td><td>71BF252                   </td><td>KAL1264                   </td><td>36.26005                  </td><td>126.9895                  </td><td>25000                     </td><td>2017-07-06                </td><td>2017/07/06 71BF252 KAL1264</td><td>landing                   </td><td>gimpo                     </td><td>CJU                       </td><td>GMP                       </td></tr>\n",
       "</tbody>\n",
       "</table>\n"
      ],
      "text/latex": [
       "\\begin{tabular}{r|llllllllllll}\n",
       "  & Time & id & CallSign & lat & lon & Alt.fit & day & day\\_call & landing & airport & departure & land\\\\\n",
       "\\hline\n",
       "\t225 & 2017-07-06 22:05:30        & 71BF252                    & KAL1264                    & 36.12687                   & 126.9747                   & 25000                      & 2017-07-06                 & 2017/07/06 71BF252 KAL1264 & landing                    & gimpo                      & CJU                        & GMP                       \\\\\n",
       "\t226 & 2017-07-06 22:05:40        & 71BF252                    & KAL1264                    & 36.17844                   & 126.9804                   & 25000                      & 2017-07-06                 & 2017/07/06 71BF252 KAL1264 & landing                    & gimpo                      & CJU                        & GMP                       \\\\\n",
       "\t227 & 2017-07-06 22:05:50        & 71BF252                    & KAL1264                    & 36.20256                   & 126.9831                   & 25000                      & 2017-07-06                 & 2017/07/06 71BF252 KAL1264 & landing                    & gimpo                      & CJU                        & GMP                       \\\\\n",
       "\t228 & 2017-07-06 22:06:15        & 71BF252                    & KAL1264                    & 36.24966                   & 126.9883                   & 25000                      & 2017-07-06                 & 2017/07/06 71BF252 KAL1264 & landing                    & gimpo                      & CJU                        & GMP                       \\\\\n",
       "\t229 & 2017-07-06 22:06:18        & 71BF252                    & KAL1264                    & 36.25717                   & 126.9892                   & 25000                      & 2017-07-06                 & 2017/07/06 71BF252 KAL1264 & landing                    & gimpo                      & CJU                        & GMP                       \\\\\n",
       "\t230 & 2017-07-06 22:06:19        & 71BF252                    & KAL1264                    & 36.26005                   & 126.9895                   & 25000                      & 2017-07-06                 & 2017/07/06 71BF252 KAL1264 & landing                    & gimpo                      & CJU                        & GMP                       \\\\\n",
       "\\end{tabular}\n"
      ],
      "text/markdown": [
       "\n",
       "| <!--/--> | Time | id | CallSign | lat | lon | Alt.fit | day | day_call | landing | airport | departure | land |\n",
       "|---|---|---|---|---|---|---|---|---|---|---|---|---|\n",
       "| 225 | 2017-07-06 22:05:30        | 71BF252                    | KAL1264                    | 36.12687                   | 126.9747                   | 25000                      | 2017-07-06                 | 2017/07/06 71BF252 KAL1264 | landing                    | gimpo                      | CJU                        | GMP                        |\n",
       "| 226 | 2017-07-06 22:05:40        | 71BF252                    | KAL1264                    | 36.17844                   | 126.9804                   | 25000                      | 2017-07-06                 | 2017/07/06 71BF252 KAL1264 | landing                    | gimpo                      | CJU                        | GMP                        |\n",
       "| 227 | 2017-07-06 22:05:50        | 71BF252                    | KAL1264                    | 36.20256                   | 126.9831                   | 25000                      | 2017-07-06                 | 2017/07/06 71BF252 KAL1264 | landing                    | gimpo                      | CJU                        | GMP                        |\n",
       "| 228 | 2017-07-06 22:06:15        | 71BF252                    | KAL1264                    | 36.24966                   | 126.9883                   | 25000                      | 2017-07-06                 | 2017/07/06 71BF252 KAL1264 | landing                    | gimpo                      | CJU                        | GMP                        |\n",
       "| 229 | 2017-07-06 22:06:18        | 71BF252                    | KAL1264                    | 36.25717                   | 126.9892                   | 25000                      | 2017-07-06                 | 2017/07/06 71BF252 KAL1264 | landing                    | gimpo                      | CJU                        | GMP                        |\n",
       "| 230 | 2017-07-06 22:06:19        | 71BF252                    | KAL1264                    | 36.26005                   | 126.9895                   | 25000                      | 2017-07-06                 | 2017/07/06 71BF252 KAL1264 | landing                    | gimpo                      | CJU                        | GMP                        |\n",
       "\n"
      ],
      "text/plain": [
       "    Time                id      CallSign lat      lon      Alt.fit day       \n",
       "225 2017-07-06 22:05:30 71BF252 KAL1264  36.12687 126.9747 25000   2017-07-06\n",
       "226 2017-07-06 22:05:40 71BF252 KAL1264  36.17844 126.9804 25000   2017-07-06\n",
       "227 2017-07-06 22:05:50 71BF252 KAL1264  36.20256 126.9831 25000   2017-07-06\n",
       "228 2017-07-06 22:06:15 71BF252 KAL1264  36.24966 126.9883 25000   2017-07-06\n",
       "229 2017-07-06 22:06:18 71BF252 KAL1264  36.25717 126.9892 25000   2017-07-06\n",
       "230 2017-07-06 22:06:19 71BF252 KAL1264  36.26005 126.9895 25000   2017-07-06\n",
       "    day_call                   landing airport departure land\n",
       "225 2017/07/06 71BF252 KAL1264 landing gimpo   CJU       GMP \n",
       "226 2017/07/06 71BF252 KAL1264 landing gimpo   CJU       GMP \n",
       "227 2017/07/06 71BF252 KAL1264 landing gimpo   CJU       GMP \n",
       "228 2017/07/06 71BF252 KAL1264 landing gimpo   CJU       GMP \n",
       "229 2017/07/06 71BF252 KAL1264 landing gimpo   CJU       GMP \n",
       "230 2017/07/06 71BF252 KAL1264 landing gimpo   CJU       GMP "
      ]
     },
     "metadata": {},
     "output_type": "display_data"
    }
   ],
   "source": [
    "data_list[[3]]\n",
    "data_list[[30]]"
   ]
  },
  {
   "cell_type": "code",
   "execution_count": 26,
   "metadata": {
    "scrolled": false
   },
   "outputs": [
    {
     "data": {
      "image/png": "[encoded data removed]",
      "text/plain": [
       "plot without title"
      ]
     },
     "metadata": {},
     "output_type": "display_data"
    }
   ],
   "source": [
    "ggplot(data_list[[3]])+geom_point(aes(x=lon,y=lat))"
   ]
  },
  {
   "cell_type": "code",
   "execution_count": 54,
   "metadata": {},
   "outputs": [
    {
     "data": {
      "image/png": "[encoded data removed]",
      "text/plain": [
       "plot without title"
      ]
     },
     "metadata": {},
     "output_type": "display_data"
    }
   ],
   "source": [
    "ggplot(data_list[[16]])+geom_point(aes(x=lon,y=lat))"
   ]
  },
  {
   "cell_type": "markdown",
   "metadata": {},
   "source": [
    "# 1) 시간 정보를 포함한 자료\n",
    "## 각 항적의 수신된 첫번째 시간과 마지막 시간 사이에 시간을 생성하여 관측되지 않은 시간에 대해서 선형 보간법으로 결측치를 대체한다. 각 항적의 수신된 구간과 길이가 다를 수 밖에 없다"
   ]
  },
  {
   "cell_type": "code",
   "execution_count": 62,
   "metadata": {},
   "outputs": [
    {
     "data": {
      "text/html": [
       "<table>\n",
       "<thead><tr><th scope=col>Time</th><th scope=col>lat</th><th scope=col>lon</th></tr></thead>\n",
       "<tbody>\n",
       "\t<tr><td>2017-07-01 18:04:00</td><td>36.09984           </td><td>126.9716           </td></tr>\n",
       "\t<tr><td>2017-07-01 18:04:01</td><td>36.10143           </td><td>126.9718           </td></tr>\n",
       "\t<tr><td>2017-07-01 18:04:02</td><td>36.10302           </td><td>126.9719           </td></tr>\n",
       "\t<tr><td>2017-07-01 18:04:03</td><td>36.10460           </td><td>126.9721           </td></tr>\n",
       "\t<tr><td>2017-07-01 18:04:04</td><td>36.10619           </td><td>126.9723           </td></tr>\n",
       "\t<tr><td>2017-07-01 18:04:05</td><td>36.10778           </td><td>126.9725           </td></tr>\n",
       "\t<tr><td>2017-07-01 18:04:06</td><td>36.10937           </td><td>126.9727           </td></tr>\n",
       "\t<tr><td>2017-07-01 18:04:07</td><td>36.11096           </td><td>126.9728           </td></tr>\n",
       "\t<tr><td>2017-07-01 18:04:08</td><td>36.11255           </td><td>126.9730           </td></tr>\n",
       "\t<tr><td>2017-07-01 18:04:09</td><td>36.11413           </td><td>126.9732           </td></tr>\n",
       "\t<tr><td>2017-07-01 18:04:10</td><td>36.11572           </td><td>126.9734           </td></tr>\n",
       "\t<tr><td>2017-07-01 18:04:11</td><td>36.11731           </td><td>126.9736           </td></tr>\n",
       "\t<tr><td>2017-07-01 18:04:12</td><td>36.11890           </td><td>126.9737           </td></tr>\n",
       "\t<tr><td>2017-07-01 18:04:13</td><td>36.12049           </td><td>126.9739           </td></tr>\n",
       "\t<tr><td>2017-07-01 18:04:14</td><td>36.12208           </td><td>126.9741           </td></tr>\n",
       "\t<tr><td>2017-07-01 18:04:15</td><td>36.12367           </td><td>126.9743           </td></tr>\n",
       "\t<tr><td>2017-07-01 18:04:16</td><td>36.12525           </td><td>126.9745           </td></tr>\n",
       "\t<tr><td>2017-07-01 18:04:17</td><td>36.12684           </td><td>126.9746           </td></tr>\n",
       "\t<tr><td>2017-07-01 18:04:18</td><td>36.12843           </td><td>126.9748           </td></tr>\n",
       "\t<tr><td>2017-07-01 18:04:19</td><td>36.13002           </td><td>126.9750           </td></tr>\n",
       "\t<tr><td>2017-07-01 18:04:20</td><td>36.13161           </td><td>126.9752           </td></tr>\n",
       "\t<tr><td>2017-07-01 18:04:21</td><td>36.13320           </td><td>126.9754           </td></tr>\n",
       "\t<tr><td>2017-07-01 18:04:22</td><td>36.13478           </td><td>126.9756           </td></tr>\n",
       "\t<tr><td>2017-07-01 18:04:23</td><td>36.13637           </td><td>126.9757           </td></tr>\n",
       "\t<tr><td>2017-07-01 18:04:24</td><td>36.13796           </td><td>126.9759           </td></tr>\n",
       "\t<tr><td>2017-07-01 18:04:25</td><td>36.13955           </td><td>126.9761           </td></tr>\n",
       "\t<tr><td>2017-07-01 18:04:26</td><td>36.14114           </td><td>126.9763           </td></tr>\n",
       "\t<tr><td>2017-07-01 18:04:27</td><td>36.14272           </td><td>126.9765           </td></tr>\n",
       "\t<tr><td>2017-07-01 18:04:28</td><td>36.14431           </td><td>126.9766           </td></tr>\n",
       "\t<tr><td>2017-07-01 18:04:29</td><td>36.14590           </td><td>126.9768           </td></tr>\n",
       "\t<tr><td>...</td><td>...</td><td>...</td></tr>\n",
       "\t<tr><td>2017-07-01 18:05:31</td><td>36.25555           </td><td>126.9892           </td></tr>\n",
       "\t<tr><td>2017-07-01 18:05:32</td><td>36.25750           </td><td>126.9894           </td></tr>\n",
       "\t<tr><td>2017-07-01 18:05:33</td><td>36.25945           </td><td>126.9896           </td></tr>\n",
       "\t<tr><td>2017-07-01 18:05:34</td><td>36.26139           </td><td>126.9898           </td></tr>\n",
       "\t<tr><td>2017-07-01 18:05:35</td><td>36.26334           </td><td>126.9900           </td></tr>\n",
       "\t<tr><td>2017-07-01 18:05:36</td><td>36.26529           </td><td>126.9903           </td></tr>\n",
       "\t<tr><td>2017-07-01 18:05:37</td><td>36.26724           </td><td>126.9905           </td></tr>\n",
       "\t<tr><td>2017-07-01 18:05:38</td><td>36.26919           </td><td>126.9907           </td></tr>\n",
       "\t<tr><td>2017-07-01 18:05:39</td><td>36.27114           </td><td>126.9909           </td></tr>\n",
       "\t<tr><td>2017-07-01 18:05:40</td><td>36.27309           </td><td>126.9911           </td></tr>\n",
       "\t<tr><td>2017-07-01 18:05:41</td><td>36.27504           </td><td>126.9914           </td></tr>\n",
       "\t<tr><td>2017-07-01 18:05:42</td><td>36.27698           </td><td>126.9916           </td></tr>\n",
       "\t<tr><td>2017-07-01 18:05:43</td><td>36.27893           </td><td>126.9918           </td></tr>\n",
       "\t<tr><td>2017-07-01 18:05:44</td><td>36.28088           </td><td>126.9920           </td></tr>\n",
       "\t<tr><td>2017-07-01 18:05:45</td><td>36.28283           </td><td>126.9922           </td></tr>\n",
       "\t<tr><td>2017-07-01 18:05:46</td><td>36.28478           </td><td>126.9924           </td></tr>\n",
       "\t<tr><td>2017-07-01 18:05:47</td><td>36.28673           </td><td>126.9927           </td></tr>\n",
       "\t<tr><td>2017-07-01 18:05:48</td><td>36.28868           </td><td>126.9929           </td></tr>\n",
       "\t<tr><td>2017-07-01 18:05:49</td><td>36.29062           </td><td>126.9931           </td></tr>\n",
       "\t<tr><td>2017-07-01 18:05:50</td><td>36.29257           </td><td>126.9933           </td></tr>\n",
       "\t<tr><td>2017-07-01 18:05:51</td><td>36.29452           </td><td>126.9935           </td></tr>\n",
       "\t<tr><td>2017-07-01 18:05:52</td><td>36.29647           </td><td>126.9937           </td></tr>\n",
       "\t<tr><td>2017-07-01 18:05:53</td><td>36.29842           </td><td>126.9940           </td></tr>\n",
       "\t<tr><td>2017-07-01 18:05:54</td><td>36.30037           </td><td>126.9942           </td></tr>\n",
       "\t<tr><td>2017-07-01 18:05:55</td><td>36.30232           </td><td>126.9944           </td></tr>\n",
       "\t<tr><td>2017-07-01 18:05:56</td><td>36.30427           </td><td>126.9946           </td></tr>\n",
       "\t<tr><td>2017-07-01 18:05:57</td><td>36.30621           </td><td>126.9948           </td></tr>\n",
       "\t<tr><td>2017-07-01 18:05:58</td><td>36.30816           </td><td>126.9950           </td></tr>\n",
       "\t<tr><td>2017-07-01 18:05:59</td><td>36.31011           </td><td>126.9953           </td></tr>\n",
       "\t<tr><td>2017-07-01 18:06:00</td><td>36.31206           </td><td>126.9955           </td></tr>\n",
       "</tbody>\n",
       "</table>\n"
      ],
      "text/latex": [
       "\\begin{tabular}{r|lll}\n",
       " Time & lat & lon\\\\\n",
       "\\hline\n",
       "\t 2017-07-01 18:04:00 & 36.09984            & 126.9716           \\\\\n",
       "\t 2017-07-01 18:04:01 & 36.10143            & 126.9718           \\\\\n",
       "\t 2017-07-01 18:04:02 & 36.10302            & 126.9719           \\\\\n",
       "\t 2017-07-01 18:04:03 & 36.10460            & 126.9721           \\\\\n",
       "\t 2017-07-01 18:04:04 & 36.10619            & 126.9723           \\\\\n",
       "\t 2017-07-01 18:04:05 & 36.10778            & 126.9725           \\\\\n",
       "\t 2017-07-01 18:04:06 & 36.10937            & 126.9727           \\\\\n",
       "\t 2017-07-01 18:04:07 & 36.11096            & 126.9728           \\\\\n",
       "\t 2017-07-01 18:04:08 & 36.11255            & 126.9730           \\\\\n",
       "\t 2017-07-01 18:04:09 & 36.11413            & 126.9732           \\\\\n",
       "\t 2017-07-01 18:04:10 & 36.11572            & 126.9734           \\\\\n",
       "\t 2017-07-01 18:04:11 & 36.11731            & 126.9736           \\\\\n",
       "\t 2017-07-01 18:04:12 & 36.11890            & 126.9737           \\\\\n",
       "\t 2017-07-01 18:04:13 & 36.12049            & 126.9739           \\\\\n",
       "\t 2017-07-01 18:04:14 & 36.12208            & 126.9741           \\\\\n",
       "\t 2017-07-01 18:04:15 & 36.12367            & 126.9743           \\\\\n",
       "\t 2017-07-01 18:04:16 & 36.12525            & 126.9745           \\\\\n",
       "\t 2017-07-01 18:04:17 & 36.12684            & 126.9746           \\\\\n",
       "\t 2017-07-01 18:04:18 & 36.12843            & 126.9748           \\\\\n",
       "\t 2017-07-01 18:04:19 & 36.13002            & 126.9750           \\\\\n",
       "\t 2017-07-01 18:04:20 & 36.13161            & 126.9752           \\\\\n",
       "\t 2017-07-01 18:04:21 & 36.13320            & 126.9754           \\\\\n",
       "\t 2017-07-01 18:04:22 & 36.13478            & 126.9756           \\\\\n",
       "\t 2017-07-01 18:04:23 & 36.13637            & 126.9757           \\\\\n",
       "\t 2017-07-01 18:04:24 & 36.13796            & 126.9759           \\\\\n",
       "\t 2017-07-01 18:04:25 & 36.13955            & 126.9761           \\\\\n",
       "\t 2017-07-01 18:04:26 & 36.14114            & 126.9763           \\\\\n",
       "\t 2017-07-01 18:04:27 & 36.14272            & 126.9765           \\\\\n",
       "\t 2017-07-01 18:04:28 & 36.14431            & 126.9766           \\\\\n",
       "\t 2017-07-01 18:04:29 & 36.14590            & 126.9768           \\\\\n",
       "\t ... & ... & ...\\\\\n",
       "\t 2017-07-01 18:05:31 & 36.25555            & 126.9892           \\\\\n",
       "\t 2017-07-01 18:05:32 & 36.25750            & 126.9894           \\\\\n",
       "\t 2017-07-01 18:05:33 & 36.25945            & 126.9896           \\\\\n",
       "\t 2017-07-01 18:05:34 & 36.26139            & 126.9898           \\\\\n",
       "\t 2017-07-01 18:05:35 & 36.26334            & 126.9900           \\\\\n",
       "\t 2017-07-01 18:05:36 & 36.26529            & 126.9903           \\\\\n",
       "\t 2017-07-01 18:05:37 & 36.26724            & 126.9905           \\\\\n",
       "\t 2017-07-01 18:05:38 & 36.26919            & 126.9907           \\\\\n",
       "\t 2017-07-01 18:05:39 & 36.27114            & 126.9909           \\\\\n",
       "\t 2017-07-01 18:05:40 & 36.27309            & 126.9911           \\\\\n",
       "\t 2017-07-01 18:05:41 & 36.27504            & 126.9914           \\\\\n",
       "\t 2017-07-01 18:05:42 & 36.27698            & 126.9916           \\\\\n",
       "\t 2017-07-01 18:05:43 & 36.27893            & 126.9918           \\\\\n",
       "\t 2017-07-01 18:05:44 & 36.28088            & 126.9920           \\\\\n",
       "\t 2017-07-01 18:05:45 & 36.28283            & 126.9922           \\\\\n",
       "\t 2017-07-01 18:05:46 & 36.28478            & 126.9924           \\\\\n",
       "\t 2017-07-01 18:05:47 & 36.28673            & 126.9927           \\\\\n",
       "\t 2017-07-01 18:05:48 & 36.28868            & 126.9929           \\\\\n",
       "\t 2017-07-01 18:05:49 & 36.29062            & 126.9931           \\\\\n",
       "\t 2017-07-01 18:05:50 & 36.29257            & 126.9933           \\\\\n",
       "\t 2017-07-01 18:05:51 & 36.29452            & 126.9935           \\\\\n",
       "\t 2017-07-01 18:05:52 & 36.29647            & 126.9937           \\\\\n",
       "\t 2017-07-01 18:05:53 & 36.29842            & 126.9940           \\\\\n",
       "\t 2017-07-01 18:05:54 & 36.30037            & 126.9942           \\\\\n",
       "\t 2017-07-01 18:05:55 & 36.30232            & 126.9944           \\\\\n",
       "\t 2017-07-01 18:05:56 & 36.30427            & 126.9946           \\\\\n",
       "\t 2017-07-01 18:05:57 & 36.30621            & 126.9948           \\\\\n",
       "\t 2017-07-01 18:05:58 & 36.30816            & 126.9950           \\\\\n",
       "\t 2017-07-01 18:05:59 & 36.31011            & 126.9953           \\\\\n",
       "\t 2017-07-01 18:06:00 & 36.31206            & 126.9955           \\\\\n",
       "\\end{tabular}\n"
      ],
      "text/markdown": [
       "\n",
       "| Time | lat | lon |\n",
       "|---|---|---|\n",
       "| 2017-07-01 18:04:00 | 36.09984            | 126.9716            |\n",
       "| 2017-07-01 18:04:01 | 36.10143            | 126.9718            |\n",
       "| 2017-07-01 18:04:02 | 36.10302            | 126.9719            |\n",
       "| 2017-07-01 18:04:03 | 36.10460            | 126.9721            |\n",
       "| 2017-07-01 18:04:04 | 36.10619            | 126.9723            |\n",
       "| 2017-07-01 18:04:05 | 36.10778            | 126.9725            |\n",
       "| 2017-07-01 18:04:06 | 36.10937            | 126.9727            |\n",
       "| 2017-07-01 18:04:07 | 36.11096            | 126.9728            |\n",
       "| 2017-07-01 18:04:08 | 36.11255            | 126.9730            |\n",
       "| 2017-07-01 18:04:09 | 36.11413            | 126.9732            |\n",
       "| 2017-07-01 18:04:10 | 36.11572            | 126.9734            |\n",
       "| 2017-07-01 18:04:11 | 36.11731            | 126.9736            |\n",
       "| 2017-07-01 18:04:12 | 36.11890            | 126.9737            |\n",
       "| 2017-07-01 18:04:13 | 36.12049            | 126.9739            |\n",
       "| 2017-07-01 18:04:14 | 36.12208            | 126.9741            |\n",
       "| 2017-07-01 18:04:15 | 36.12367            | 126.9743            |\n",
       "| 2017-07-01 18:04:16 | 36.12525            | 126.9745            |\n",
       "| 2017-07-01 18:04:17 | 36.12684            | 126.9746            |\n",
       "| 2017-07-01 18:04:18 | 36.12843            | 126.9748            |\n",
       "| 2017-07-01 18:04:19 | 36.13002            | 126.9750            |\n",
       "| 2017-07-01 18:04:20 | 36.13161            | 126.9752            |\n",
       "| 2017-07-01 18:04:21 | 36.13320            | 126.9754            |\n",
       "| 2017-07-01 18:04:22 | 36.13478            | 126.9756            |\n",
       "| 2017-07-01 18:04:23 | 36.13637            | 126.9757            |\n",
       "| 2017-07-01 18:04:24 | 36.13796            | 126.9759            |\n",
       "| 2017-07-01 18:04:25 | 36.13955            | 126.9761            |\n",
       "| 2017-07-01 18:04:26 | 36.14114            | 126.9763            |\n",
       "| 2017-07-01 18:04:27 | 36.14272            | 126.9765            |\n",
       "| 2017-07-01 18:04:28 | 36.14431            | 126.9766            |\n",
       "| 2017-07-01 18:04:29 | 36.14590            | 126.9768            |\n",
       "| ... | ... | ... |\n",
       "| 2017-07-01 18:05:31 | 36.25555            | 126.9892            |\n",
       "| 2017-07-01 18:05:32 | 36.25750            | 126.9894            |\n",
       "| 2017-07-01 18:05:33 | 36.25945            | 126.9896            |\n",
       "| 2017-07-01 18:05:34 | 36.26139            | 126.9898            |\n",
       "| 2017-07-01 18:05:35 | 36.26334            | 126.9900            |\n",
       "| 2017-07-01 18:05:36 | 36.26529            | 126.9903            |\n",
       "| 2017-07-01 18:05:37 | 36.26724            | 126.9905            |\n",
       "| 2017-07-01 18:05:38 | 36.26919            | 126.9907            |\n",
       "| 2017-07-01 18:05:39 | 36.27114            | 126.9909            |\n",
       "| 2017-07-01 18:05:40 | 36.27309            | 126.9911            |\n",
       "| 2017-07-01 18:05:41 | 36.27504            | 126.9914            |\n",
       "| 2017-07-01 18:05:42 | 36.27698            | 126.9916            |\n",
       "| 2017-07-01 18:05:43 | 36.27893            | 126.9918            |\n",
       "| 2017-07-01 18:05:44 | 36.28088            | 126.9920            |\n",
       "| 2017-07-01 18:05:45 | 36.28283            | 126.9922            |\n",
       "| 2017-07-01 18:05:46 | 36.28478            | 126.9924            |\n",
       "| 2017-07-01 18:05:47 | 36.28673            | 126.9927            |\n",
       "| 2017-07-01 18:05:48 | 36.28868            | 126.9929            |\n",
       "| 2017-07-01 18:05:49 | 36.29062            | 126.9931            |\n",
       "| 2017-07-01 18:05:50 | 36.29257            | 126.9933            |\n",
       "| 2017-07-01 18:05:51 | 36.29452            | 126.9935            |\n",
       "| 2017-07-01 18:05:52 | 36.29647            | 126.9937            |\n",
       "| 2017-07-01 18:05:53 | 36.29842            | 126.9940            |\n",
       "| 2017-07-01 18:05:54 | 36.30037            | 126.9942            |\n",
       "| 2017-07-01 18:05:55 | 36.30232            | 126.9944            |\n",
       "| 2017-07-01 18:05:56 | 36.30427            | 126.9946            |\n",
       "| 2017-07-01 18:05:57 | 36.30621            | 126.9948            |\n",
       "| 2017-07-01 18:05:58 | 36.30816            | 126.9950            |\n",
       "| 2017-07-01 18:05:59 | 36.31011            | 126.9953            |\n",
       "| 2017-07-01 18:06:00 | 36.31206            | 126.9955            |\n",
       "\n"
      ],
      "text/plain": [
       "    Time                lat      lon     \n",
       "1   2017-07-01 18:04:00 36.09984 126.9716\n",
       "2   2017-07-01 18:04:01 36.10143 126.9718\n",
       "3   2017-07-01 18:04:02 36.10302 126.9719\n",
       "4   2017-07-01 18:04:03 36.10460 126.9721\n",
       "5   2017-07-01 18:04:04 36.10619 126.9723\n",
       "6   2017-07-01 18:04:05 36.10778 126.9725\n",
       "7   2017-07-01 18:04:06 36.10937 126.9727\n",
       "8   2017-07-01 18:04:07 36.11096 126.9728\n",
       "9   2017-07-01 18:04:08 36.11255 126.9730\n",
       "10  2017-07-01 18:04:09 36.11413 126.9732\n",
       "11  2017-07-01 18:04:10 36.11572 126.9734\n",
       "12  2017-07-01 18:04:11 36.11731 126.9736\n",
       "13  2017-07-01 18:04:12 36.11890 126.9737\n",
       "14  2017-07-01 18:04:13 36.12049 126.9739\n",
       "15  2017-07-01 18:04:14 36.12208 126.9741\n",
       "16  2017-07-01 18:04:15 36.12367 126.9743\n",
       "17  2017-07-01 18:04:16 36.12525 126.9745\n",
       "18  2017-07-01 18:04:17 36.12684 126.9746\n",
       "19  2017-07-01 18:04:18 36.12843 126.9748\n",
       "20  2017-07-01 18:04:19 36.13002 126.9750\n",
       "21  2017-07-01 18:04:20 36.13161 126.9752\n",
       "22  2017-07-01 18:04:21 36.13320 126.9754\n",
       "23  2017-07-01 18:04:22 36.13478 126.9756\n",
       "24  2017-07-01 18:04:23 36.13637 126.9757\n",
       "25  2017-07-01 18:04:24 36.13796 126.9759\n",
       "26  2017-07-01 18:04:25 36.13955 126.9761\n",
       "27  2017-07-01 18:04:26 36.14114 126.9763\n",
       "28  2017-07-01 18:04:27 36.14272 126.9765\n",
       "29  2017-07-01 18:04:28 36.14431 126.9766\n",
       "30  2017-07-01 18:04:29 36.14590 126.9768\n",
       "... ...                 ...      ...     \n",
       "92  2017-07-01 18:05:31 36.25555 126.9892\n",
       "93  2017-07-01 18:05:32 36.25750 126.9894\n",
       "94  2017-07-01 18:05:33 36.25945 126.9896\n",
       "95  2017-07-01 18:05:34 36.26139 126.9898\n",
       "96  2017-07-01 18:05:35 36.26334 126.9900\n",
       "97  2017-07-01 18:05:36 36.26529 126.9903\n",
       "98  2017-07-01 18:05:37 36.26724 126.9905\n",
       "99  2017-07-01 18:05:38 36.26919 126.9907\n",
       "100 2017-07-01 18:05:39 36.27114 126.9909\n",
       "101 2017-07-01 18:05:40 36.27309 126.9911\n",
       "102 2017-07-01 18:05:41 36.27504 126.9914\n",
       "103 2017-07-01 18:05:42 36.27698 126.9916\n",
       "104 2017-07-01 18:05:43 36.27893 126.9918\n",
       "105 2017-07-01 18:05:44 36.28088 126.9920\n",
       "106 2017-07-01 18:05:45 36.28283 126.9922\n",
       "107 2017-07-01 18:05:46 36.28478 126.9924\n",
       "108 2017-07-01 18:05:47 36.28673 126.9927\n",
       "109 2017-07-01 18:05:48 36.28868 126.9929\n",
       "110 2017-07-01 18:05:49 36.29062 126.9931\n",
       "111 2017-07-01 18:05:50 36.29257 126.9933\n",
       "112 2017-07-01 18:05:51 36.29452 126.9935\n",
       "113 2017-07-01 18:05:52 36.29647 126.9937\n",
       "114 2017-07-01 18:05:53 36.29842 126.9940\n",
       "115 2017-07-01 18:05:54 36.30037 126.9942\n",
       "116 2017-07-01 18:05:55 36.30232 126.9944\n",
       "117 2017-07-01 18:05:56 36.30427 126.9946\n",
       "118 2017-07-01 18:05:57 36.30621 126.9948\n",
       "119 2017-07-01 18:05:58 36.30816 126.9950\n",
       "120 2017-07-01 18:05:59 36.31011 126.9953\n",
       "121 2017-07-01 18:06:00 36.31206 126.9955"
      ]
     },
     "metadata": {},
     "output_type": "display_data"
    }
   ],
   "source": [
    "##data_list[[i]], for문을 사용하여 169개의 항적에 대해 진행할 수 있음.\n",
    "\n",
    "time_dat<-data_list[[3]][,c(1,4,5)]\n",
    "ind<-duplicated(time_dat$Time)\n",
    "time_dat2<-time_dat[ind==F,]\n",
    "\n",
    "Time_fst=time_dat$Time[1]\n",
    "Time_last=time_dat$Time[length(time_dat$Time)]\n",
    "\n",
    "\n",
    "\n",
    "date<-seq(ymd_hms(Time_fst),ymd_hms(Time_last),1)\n",
    "date1<-data.frame(substr(date,1,19))\n",
    "names(date1)<-\"Time\"\n",
    "\n",
    "\n",
    "\n",
    "missing_dat<-left_join(date1,time_dat2,by=c(\"Time\"=\"Time\"))\n",
    "\n",
    "missing_dat$lat<-na_interpolation(missing_dat$lat,option = \"linear\")\n",
    "missing_dat$lon<-na_interpolation(missing_dat$lon,option = \"linear\")\n",
    "\n",
    "missing_dat\n"
   ]
  },
  {
   "cell_type": "code",
   "execution_count": 59,
   "metadata": {
    "scrolled": false
   },
   "outputs": [
    {
     "data": {
      "image/png": "[encoded data removed]",
      "text/plain": [
       "plot without title"
      ]
     },
     "metadata": {},
     "output_type": "display_data"
    }
   ],
   "source": [
    "\n",
    "ggplot(missing_dat)+geom_point(aes(x=lon,y=lat))\n"
   ]
  },
  {
   "cell_type": "markdown",
   "metadata": {},
   "source": [
    "# 2) 시간 정보를 포함하지 않은 자료\n",
    "## 시간에 대한 정보는 생각하지 않고, 특정 구간에서의 각 항적을 선형 보간법으로 결측치를 대체한다. 이 경우, 각 항적의 수신된 구간과 길이가 같아지기 때문에 추후 분석에 용이할 수 있다."
   ]
  },
  {
   "cell_type": "code",
   "execution_count": 60,
   "metadata": {},
   "outputs": [
    {
     "data": {
      "text/html": [
       "<table>\n",
       "<thead><tr><th scope=col>name</th><th scope=col>lat</th><th scope=col>lon</th></tr></thead>\n",
       "<tbody>\n",
       "\t<tr><td>2017-07-01 71BD603 KAL1246</td><td>35.90                     </td><td>126.9491                  </td></tr>\n",
       "\t<tr><td>2017-07-01 71BD603 KAL1246</td><td>35.91                     </td><td>126.9502                  </td></tr>\n",
       "\t<tr><td>2017-07-01 71BD603 KAL1246</td><td>35.92                     </td><td>126.9514                  </td></tr>\n",
       "\t<tr><td>2017-07-01 71BD603 KAL1246</td><td>35.93                     </td><td>126.9525                  </td></tr>\n",
       "\t<tr><td>2017-07-01 71BD603 KAL1246</td><td>35.94                     </td><td>126.9536                  </td></tr>\n",
       "\t<tr><td>2017-07-01 71BD603 KAL1246</td><td>35.95                     </td><td>126.9547                  </td></tr>\n",
       "\t<tr><td>2017-07-01 71BD603 KAL1246</td><td>35.96                     </td><td>126.9559                  </td></tr>\n",
       "\t<tr><td>2017-07-01 71BD603 KAL1246</td><td>35.97                     </td><td>126.9570                  </td></tr>\n",
       "\t<tr><td>2017-07-01 71BD603 KAL1246</td><td>35.98                     </td><td>126.9581                  </td></tr>\n",
       "\t<tr><td>2017-07-01 71BD603 KAL1246</td><td>35.99                     </td><td>126.9592                  </td></tr>\n",
       "\t<tr><td>2017-07-01 71BD603 KAL1246</td><td>36.00                     </td><td>126.9604                  </td></tr>\n",
       "\t<tr><td>2017-07-01 71BD603 KAL1246</td><td>36.01                     </td><td>126.9615                  </td></tr>\n",
       "\t<tr><td>2017-07-01 71BD603 KAL1246</td><td>36.02                     </td><td>126.9626                  </td></tr>\n",
       "\t<tr><td>2017-07-01 71BD603 KAL1246</td><td>36.03                     </td><td>126.9637                  </td></tr>\n",
       "\t<tr><td>2017-07-01 71BD603 KAL1246</td><td>36.04                     </td><td>126.9648                  </td></tr>\n",
       "\t<tr><td>2017-07-01 71BD603 KAL1246</td><td>36.05                     </td><td>126.9660                  </td></tr>\n",
       "\t<tr><td>2017-07-01 71BD603 KAL1246</td><td>36.06                     </td><td>126.9671                  </td></tr>\n",
       "\t<tr><td>2017-07-01 71BD603 KAL1246</td><td>36.07                     </td><td>126.9682                  </td></tr>\n",
       "\t<tr><td>2017-07-01 71BD603 KAL1246</td><td>36.08                     </td><td>126.9693                  </td></tr>\n",
       "\t<tr><td>2017-07-01 71BD603 KAL1246</td><td>36.09                     </td><td>126.9705                  </td></tr>\n",
       "\t<tr><td>2017-07-01 71BD603 KAL1246</td><td>36.10                     </td><td>126.9716                  </td></tr>\n",
       "\t<tr><td>2017-07-01 71BD603 KAL1246</td><td>36.11                     </td><td>126.9727                  </td></tr>\n",
       "\t<tr><td>2017-07-01 71BD603 KAL1246</td><td>36.12                     </td><td>126.9738                  </td></tr>\n",
       "\t<tr><td>2017-07-01 71BD603 KAL1246</td><td>36.13                     </td><td>126.9750                  </td></tr>\n",
       "\t<tr><td>2017-07-01 71BD603 KAL1246</td><td>36.14                     </td><td>126.9761                  </td></tr>\n",
       "\t<tr><td>2017-07-01 71BD603 KAL1246</td><td>36.15                     </td><td>126.9772                  </td></tr>\n",
       "\t<tr><td>2017-07-01 71BD603 KAL1246</td><td>36.16                     </td><td>126.9783                  </td></tr>\n",
       "\t<tr><td>2017-07-01 71BD603 KAL1246</td><td>36.17                     </td><td>126.9795                  </td></tr>\n",
       "\t<tr><td>2017-07-01 71BD603 KAL1246</td><td>36.18                     </td><td>126.9806                  </td></tr>\n",
       "\t<tr><td>2017-07-01 71BD603 KAL1246</td><td>36.19                     </td><td>126.9817                  </td></tr>\n",
       "\t<tr><td>2017-07-01 71BD603 KAL1246</td><td>36.20                     </td><td>126.9828                  </td></tr>\n",
       "\t<tr><td>2017-07-01 71BD603 KAL1246</td><td>36.21                     </td><td>126.9839                  </td></tr>\n",
       "\t<tr><td>2017-07-01 71BD603 KAL1246</td><td>36.22                     </td><td>126.9851                  </td></tr>\n",
       "\t<tr><td>2017-07-01 71BD603 KAL1246</td><td>36.23                     </td><td>126.9862                  </td></tr>\n",
       "\t<tr><td>2017-07-01 71BD603 KAL1246</td><td>36.24                     </td><td>126.9873                  </td></tr>\n",
       "\t<tr><td>2017-07-01 71BD603 KAL1246</td><td>36.25                     </td><td>126.9884                  </td></tr>\n",
       "\t<tr><td>2017-07-01 71BD603 KAL1246</td><td>36.26                     </td><td>126.9896                  </td></tr>\n",
       "\t<tr><td>2017-07-01 71BD603 KAL1246</td><td>36.27                     </td><td>126.9907                  </td></tr>\n",
       "\t<tr><td>2017-07-01 71BD603 KAL1246</td><td>36.28                     </td><td>126.9918                  </td></tr>\n",
       "\t<tr><td>2017-07-01 71BD603 KAL1246</td><td>36.29                     </td><td>126.9929                  </td></tr>\n",
       "\t<tr><td>2017-07-01 71BD603 KAL1246</td><td>36.30                     </td><td>126.9941                  </td></tr>\n",
       "\t<tr><td>2017-07-01 71BD603 KAL1246</td><td>36.31                     </td><td>126.9952                  </td></tr>\n",
       "\t<tr><td>2017-07-01 71BD603 KAL1246</td><td>36.32                     </td><td>126.9963                  </td></tr>\n",
       "\t<tr><td>2017-07-01 71BD603 KAL1246</td><td>36.33                     </td><td>126.9974                  </td></tr>\n",
       "\t<tr><td>2017-07-01 71BD603 KAL1246</td><td>36.34                     </td><td>126.9986                  </td></tr>\n",
       "\t<tr><td>2017-07-01 71BD603 KAL1246</td><td>36.35                     </td><td>126.9997                  </td></tr>\n",
       "\t<tr><td>2017-07-01 71BD603 KAL1246</td><td>36.36                     </td><td>127.0008                  </td></tr>\n",
       "\t<tr><td>2017-07-01 71BD603 KAL1246</td><td>36.37                     </td><td>127.0019                  </td></tr>\n",
       "\t<tr><td>2017-07-01 71BD603 KAL1246</td><td>36.38                     </td><td>127.0030                  </td></tr>\n",
       "</tbody>\n",
       "</table>\n"
      ],
      "text/latex": [
       "\\begin{tabular}{r|lll}\n",
       " name & lat & lon\\\\\n",
       "\\hline\n",
       "\t 2017-07-01 71BD603 KAL1246 & 35.90                      & 126.9491                  \\\\\n",
       "\t 2017-07-01 71BD603 KAL1246 & 35.91                      & 126.9502                  \\\\\n",
       "\t 2017-07-01 71BD603 KAL1246 & 35.92                      & 126.9514                  \\\\\n",
       "\t 2017-07-01 71BD603 KAL1246 & 35.93                      & 126.9525                  \\\\\n",
       "\t 2017-07-01 71BD603 KAL1246 & 35.94                      & 126.9536                  \\\\\n",
       "\t 2017-07-01 71BD603 KAL1246 & 35.95                      & 126.9547                  \\\\\n",
       "\t 2017-07-01 71BD603 KAL1246 & 35.96                      & 126.9559                  \\\\\n",
       "\t 2017-07-01 71BD603 KAL1246 & 35.97                      & 126.9570                  \\\\\n",
       "\t 2017-07-01 71BD603 KAL1246 & 35.98                      & 126.9581                  \\\\\n",
       "\t 2017-07-01 71BD603 KAL1246 & 35.99                      & 126.9592                  \\\\\n",
       "\t 2017-07-01 71BD603 KAL1246 & 36.00                      & 126.9604                  \\\\\n",
       "\t 2017-07-01 71BD603 KAL1246 & 36.01                      & 126.9615                  \\\\\n",
       "\t 2017-07-01 71BD603 KAL1246 & 36.02                      & 126.9626                  \\\\\n",
       "\t 2017-07-01 71BD603 KAL1246 & 36.03                      & 126.9637                  \\\\\n",
       "\t 2017-07-01 71BD603 KAL1246 & 36.04                      & 126.9648                  \\\\\n",
       "\t 2017-07-01 71BD603 KAL1246 & 36.05                      & 126.9660                  \\\\\n",
       "\t 2017-07-01 71BD603 KAL1246 & 36.06                      & 126.9671                  \\\\\n",
       "\t 2017-07-01 71BD603 KAL1246 & 36.07                      & 126.9682                  \\\\\n",
       "\t 2017-07-01 71BD603 KAL1246 & 36.08                      & 126.9693                  \\\\\n",
       "\t 2017-07-01 71BD603 KAL1246 & 36.09                      & 126.9705                  \\\\\n",
       "\t 2017-07-01 71BD603 KAL1246 & 36.10                      & 126.9716                  \\\\\n",
       "\t 2017-07-01 71BD603 KAL1246 & 36.11                      & 126.9727                  \\\\\n",
       "\t 2017-07-01 71BD603 KAL1246 & 36.12                      & 126.9738                  \\\\\n",
       "\t 2017-07-01 71BD603 KAL1246 & 36.13                      & 126.9750                  \\\\\n",
       "\t 2017-07-01 71BD603 KAL1246 & 36.14                      & 126.9761                  \\\\\n",
       "\t 2017-07-01 71BD603 KAL1246 & 36.15                      & 126.9772                  \\\\\n",
       "\t 2017-07-01 71BD603 KAL1246 & 36.16                      & 126.9783                  \\\\\n",
       "\t 2017-07-01 71BD603 KAL1246 & 36.17                      & 126.9795                  \\\\\n",
       "\t 2017-07-01 71BD603 KAL1246 & 36.18                      & 126.9806                  \\\\\n",
       "\t 2017-07-01 71BD603 KAL1246 & 36.19                      & 126.9817                  \\\\\n",
       "\t 2017-07-01 71BD603 KAL1246 & 36.20                      & 126.9828                  \\\\\n",
       "\t 2017-07-01 71BD603 KAL1246 & 36.21                      & 126.9839                  \\\\\n",
       "\t 2017-07-01 71BD603 KAL1246 & 36.22                      & 126.9851                  \\\\\n",
       "\t 2017-07-01 71BD603 KAL1246 & 36.23                      & 126.9862                  \\\\\n",
       "\t 2017-07-01 71BD603 KAL1246 & 36.24                      & 126.9873                  \\\\\n",
       "\t 2017-07-01 71BD603 KAL1246 & 36.25                      & 126.9884                  \\\\\n",
       "\t 2017-07-01 71BD603 KAL1246 & 36.26                      & 126.9896                  \\\\\n",
       "\t 2017-07-01 71BD603 KAL1246 & 36.27                      & 126.9907                  \\\\\n",
       "\t 2017-07-01 71BD603 KAL1246 & 36.28                      & 126.9918                  \\\\\n",
       "\t 2017-07-01 71BD603 KAL1246 & 36.29                      & 126.9929                  \\\\\n",
       "\t 2017-07-01 71BD603 KAL1246 & 36.30                      & 126.9941                  \\\\\n",
       "\t 2017-07-01 71BD603 KAL1246 & 36.31                      & 126.9952                  \\\\\n",
       "\t 2017-07-01 71BD603 KAL1246 & 36.32                      & 126.9963                  \\\\\n",
       "\t 2017-07-01 71BD603 KAL1246 & 36.33                      & 126.9974                  \\\\\n",
       "\t 2017-07-01 71BD603 KAL1246 & 36.34                      & 126.9986                  \\\\\n",
       "\t 2017-07-01 71BD603 KAL1246 & 36.35                      & 126.9997                  \\\\\n",
       "\t 2017-07-01 71BD603 KAL1246 & 36.36                      & 127.0008                  \\\\\n",
       "\t 2017-07-01 71BD603 KAL1246 & 36.37                      & 127.0019                  \\\\\n",
       "\t 2017-07-01 71BD603 KAL1246 & 36.38                      & 127.0030                  \\\\\n",
       "\\end{tabular}\n"
      ],
      "text/markdown": [
       "\n",
       "| name | lat | lon |\n",
       "|---|---|---|\n",
       "| 2017-07-01 71BD603 KAL1246 | 35.90                      | 126.9491                   |\n",
       "| 2017-07-01 71BD603 KAL1246 | 35.91                      | 126.9502                   |\n",
       "| 2017-07-01 71BD603 KAL1246 | 35.92                      | 126.9514                   |\n",
       "| 2017-07-01 71BD603 KAL1246 | 35.93                      | 126.9525                   |\n",
       "| 2017-07-01 71BD603 KAL1246 | 35.94                      | 126.9536                   |\n",
       "| 2017-07-01 71BD603 KAL1246 | 35.95                      | 126.9547                   |\n",
       "| 2017-07-01 71BD603 KAL1246 | 35.96                      | 126.9559                   |\n",
       "| 2017-07-01 71BD603 KAL1246 | 35.97                      | 126.9570                   |\n",
       "| 2017-07-01 71BD603 KAL1246 | 35.98                      | 126.9581                   |\n",
       "| 2017-07-01 71BD603 KAL1246 | 35.99                      | 126.9592                   |\n",
       "| 2017-07-01 71BD603 KAL1246 | 36.00                      | 126.9604                   |\n",
       "| 2017-07-01 71BD603 KAL1246 | 36.01                      | 126.9615                   |\n",
       "| 2017-07-01 71BD603 KAL1246 | 36.02                      | 126.9626                   |\n",
       "| 2017-07-01 71BD603 KAL1246 | 36.03                      | 126.9637                   |\n",
       "| 2017-07-01 71BD603 KAL1246 | 36.04                      | 126.9648                   |\n",
       "| 2017-07-01 71BD603 KAL1246 | 36.05                      | 126.9660                   |\n",
       "| 2017-07-01 71BD603 KAL1246 | 36.06                      | 126.9671                   |\n",
       "| 2017-07-01 71BD603 KAL1246 | 36.07                      | 126.9682                   |\n",
       "| 2017-07-01 71BD603 KAL1246 | 36.08                      | 126.9693                   |\n",
       "| 2017-07-01 71BD603 KAL1246 | 36.09                      | 126.9705                   |\n",
       "| 2017-07-01 71BD603 KAL1246 | 36.10                      | 126.9716                   |\n",
       "| 2017-07-01 71BD603 KAL1246 | 36.11                      | 126.9727                   |\n",
       "| 2017-07-01 71BD603 KAL1246 | 36.12                      | 126.9738                   |\n",
       "| 2017-07-01 71BD603 KAL1246 | 36.13                      | 126.9750                   |\n",
       "| 2017-07-01 71BD603 KAL1246 | 36.14                      | 126.9761                   |\n",
       "| 2017-07-01 71BD603 KAL1246 | 36.15                      | 126.9772                   |\n",
       "| 2017-07-01 71BD603 KAL1246 | 36.16                      | 126.9783                   |\n",
       "| 2017-07-01 71BD603 KAL1246 | 36.17                      | 126.9795                   |\n",
       "| 2017-07-01 71BD603 KAL1246 | 36.18                      | 126.9806                   |\n",
       "| 2017-07-01 71BD603 KAL1246 | 36.19                      | 126.9817                   |\n",
       "| 2017-07-01 71BD603 KAL1246 | 36.20                      | 126.9828                   |\n",
       "| 2017-07-01 71BD603 KAL1246 | 36.21                      | 126.9839                   |\n",
       "| 2017-07-01 71BD603 KAL1246 | 36.22                      | 126.9851                   |\n",
       "| 2017-07-01 71BD603 KAL1246 | 36.23                      | 126.9862                   |\n",
       "| 2017-07-01 71BD603 KAL1246 | 36.24                      | 126.9873                   |\n",
       "| 2017-07-01 71BD603 KAL1246 | 36.25                      | 126.9884                   |\n",
       "| 2017-07-01 71BD603 KAL1246 | 36.26                      | 126.9896                   |\n",
       "| 2017-07-01 71BD603 KAL1246 | 36.27                      | 126.9907                   |\n",
       "| 2017-07-01 71BD603 KAL1246 | 36.28                      | 126.9918                   |\n",
       "| 2017-07-01 71BD603 KAL1246 | 36.29                      | 126.9929                   |\n",
       "| 2017-07-01 71BD603 KAL1246 | 36.30                      | 126.9941                   |\n",
       "| 2017-07-01 71BD603 KAL1246 | 36.31                      | 126.9952                   |\n",
       "| 2017-07-01 71BD603 KAL1246 | 36.32                      | 126.9963                   |\n",
       "| 2017-07-01 71BD603 KAL1246 | 36.33                      | 126.9974                   |\n",
       "| 2017-07-01 71BD603 KAL1246 | 36.34                      | 126.9986                   |\n",
       "| 2017-07-01 71BD603 KAL1246 | 36.35                      | 126.9997                   |\n",
       "| 2017-07-01 71BD603 KAL1246 | 36.36                      | 127.0008                   |\n",
       "| 2017-07-01 71BD603 KAL1246 | 36.37                      | 127.0019                   |\n",
       "| 2017-07-01 71BD603 KAL1246 | 36.38                      | 127.0030                   |\n",
       "\n"
      ],
      "text/plain": [
       "   name                       lat   lon     \n",
       "1  2017-07-01 71BD603 KAL1246 35.90 126.9491\n",
       "2  2017-07-01 71BD603 KAL1246 35.91 126.9502\n",
       "3  2017-07-01 71BD603 KAL1246 35.92 126.9514\n",
       "4  2017-07-01 71BD603 KAL1246 35.93 126.9525\n",
       "5  2017-07-01 71BD603 KAL1246 35.94 126.9536\n",
       "6  2017-07-01 71BD603 KAL1246 35.95 126.9547\n",
       "7  2017-07-01 71BD603 KAL1246 35.96 126.9559\n",
       "8  2017-07-01 71BD603 KAL1246 35.97 126.9570\n",
       "9  2017-07-01 71BD603 KAL1246 35.98 126.9581\n",
       "10 2017-07-01 71BD603 KAL1246 35.99 126.9592\n",
       "11 2017-07-01 71BD603 KAL1246 36.00 126.9604\n",
       "12 2017-07-01 71BD603 KAL1246 36.01 126.9615\n",
       "13 2017-07-01 71BD603 KAL1246 36.02 126.9626\n",
       "14 2017-07-01 71BD603 KAL1246 36.03 126.9637\n",
       "15 2017-07-01 71BD603 KAL1246 36.04 126.9648\n",
       "16 2017-07-01 71BD603 KAL1246 36.05 126.9660\n",
       "17 2017-07-01 71BD603 KAL1246 36.06 126.9671\n",
       "18 2017-07-01 71BD603 KAL1246 36.07 126.9682\n",
       "19 2017-07-01 71BD603 KAL1246 36.08 126.9693\n",
       "20 2017-07-01 71BD603 KAL1246 36.09 126.9705\n",
       "21 2017-07-01 71BD603 KAL1246 36.10 126.9716\n",
       "22 2017-07-01 71BD603 KAL1246 36.11 126.9727\n",
       "23 2017-07-01 71BD603 KAL1246 36.12 126.9738\n",
       "24 2017-07-01 71BD603 KAL1246 36.13 126.9750\n",
       "25 2017-07-01 71BD603 KAL1246 36.14 126.9761\n",
       "26 2017-07-01 71BD603 KAL1246 36.15 126.9772\n",
       "27 2017-07-01 71BD603 KAL1246 36.16 126.9783\n",
       "28 2017-07-01 71BD603 KAL1246 36.17 126.9795\n",
       "29 2017-07-01 71BD603 KAL1246 36.18 126.9806\n",
       "30 2017-07-01 71BD603 KAL1246 36.19 126.9817\n",
       "31 2017-07-01 71BD603 KAL1246 36.20 126.9828\n",
       "32 2017-07-01 71BD603 KAL1246 36.21 126.9839\n",
       "33 2017-07-01 71BD603 KAL1246 36.22 126.9851\n",
       "34 2017-07-01 71BD603 KAL1246 36.23 126.9862\n",
       "35 2017-07-01 71BD603 KAL1246 36.24 126.9873\n",
       "36 2017-07-01 71BD603 KAL1246 36.25 126.9884\n",
       "37 2017-07-01 71BD603 KAL1246 36.26 126.9896\n",
       "38 2017-07-01 71BD603 KAL1246 36.27 126.9907\n",
       "39 2017-07-01 71BD603 KAL1246 36.28 126.9918\n",
       "40 2017-07-01 71BD603 KAL1246 36.29 126.9929\n",
       "41 2017-07-01 71BD603 KAL1246 36.30 126.9941\n",
       "42 2017-07-01 71BD603 KAL1246 36.31 126.9952\n",
       "43 2017-07-01 71BD603 KAL1246 36.32 126.9963\n",
       "44 2017-07-01 71BD603 KAL1246 36.33 126.9974\n",
       "45 2017-07-01 71BD603 KAL1246 36.34 126.9986\n",
       "46 2017-07-01 71BD603 KAL1246 36.35 126.9997\n",
       "47 2017-07-01 71BD603 KAL1246 36.36 127.0008\n",
       "48 2017-07-01 71BD603 KAL1246 36.37 127.0019\n",
       "49 2017-07-01 71BD603 KAL1246 36.38 127.0030"
      ]
     },
     "metadata": {},
     "output_type": "display_data"
    }
   ],
   "source": [
    "## 역시 for문으로 한번에 진행할 수 있다.\n",
    "## Y722항로의 위도 35.9 ~ 36.38 사이에서, 위도를 0.01간격으로 고정시켜 경도에 대해 결측치 대체를 진행할 수 있다.\n",
    "\n",
    "y<-seq(35.9,36.38,by=0.01)\n",
    "\n",
    "\n",
    "name<-data_list[[3]]$day_call[1]\n",
    "first.lat<-data_list[[3]]$lat[1]\n",
    "last.lat<-data_list[[3]]$lat[length(data_list[[3]]$lon)]\n",
    "first.lon<-data_list[[3]]$lon[1]\n",
    "last.lon<-data_list[[3]]$lon[length(data_list[[3]]$lon)]\n",
    "\n",
    "\n",
    "slope<-(last.lat-first.lat)/(last.lon-first.lon)\n",
    "intercept<-slope*(-first.lon)+first.lat\n",
    "\n",
    "dat<-cbind.data.frame(name,slope,intercept)\n",
    "x<-(y-intercept)/slope\n",
    "intpol<-cbind.data.frame(name,y,x)\n",
    "names(intpol)<-c(\"name\",\"lat\",\"lon\")\n",
    "\n",
    "intpol\n"
   ]
  },
  {
   "cell_type": "code",
   "execution_count": 61,
   "metadata": {},
   "outputs": [
    {
     "data": {
      "image/png": "[encoded data removed]",
      "text/plain": [
       "plot without title"
      ]
     },
     "metadata": {},
     "output_type": "display_data"
    }
   ],
   "source": [
    "\n",
    "ggplot(intpol)+geom_point(aes(x=lon,y=lat))\n",
    "    \n"
   ]
  }
 ],
 "metadata": {
  "kernelspec": {
   "display_name": "R",
   "language": "R",
   "name": "ir"
  },
  "language_info": {
   "codemirror_mode": "r",
   "file_extension": ".r",
   "mimetype": "text/x-r-source",
   "name": "R",
   "pygments_lexer": "r",
   "version": "3.6.1"
  }
 },
 "nbformat": 4,
 "nbformat_minor": 4
}
